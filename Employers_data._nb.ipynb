{
 "cells": [
  {
   "cell_type": "markdown",
   "id": "fe472c43",
   "metadata": {},
   "source": [
    "I got this dataset from kaggle\n",
    "You can get the dataset from kaggle using this link : https://www.kaggle.com/datasets/gmudit/employer-data\n"
   ]
  },
  {
   "cell_type": "code",
   "execution_count": 1,
   "id": "2925a8c4",
   "metadata": {},
   "outputs": [],
   "source": [
    "import pandas as pd\n",
    "import matplotlib.pyplot as plt\n",
    "import numpy as np\n",
    "import pyttsx3 as pt"
   ]
  },
  {
   "cell_type": "code",
   "execution_count": 2,
   "id": "36e1b24e",
   "metadata": {},
   "outputs": [
    {
     "name": "stdout",
     "output_type": "stream",
     "text": [
      "(10000, 10)\n",
      "<class 'pandas.core.frame.DataFrame'>\n",
      "RangeIndex: 10000 entries, 0 to 9999\n",
      "Data columns (total 10 columns):\n",
      " #   Column            Non-Null Count  Dtype \n",
      "---  ------            --------------  ----- \n",
      " 0   Employee_ID       10000 non-null  int64 \n",
      " 1   Name              10000 non-null  object\n",
      " 2   Age               10000 non-null  int64 \n",
      " 3   Gender            10000 non-null  object\n",
      " 4   Department        10000 non-null  object\n",
      " 5   Job_Title         10000 non-null  object\n",
      " 6   Experience_Years  10000 non-null  int64 \n",
      " 7   Education_Level   10000 non-null  object\n",
      " 8   Location          10000 non-null  object\n",
      " 9   Salary            10000 non-null  int64 \n",
      "dtypes: int64(4), object(6)\n",
      "memory usage: 781.4+ KB\n",
      "None\n",
      "       Employee_ID           Age  Experience_Years         Salary\n",
      "count  10000.00000  10000.000000      10000.000000   10000.000000\n",
      "mean    5000.50000     35.455900         12.370900  115381.500000\n",
      "std     2886.89568     10.000213          9.148951   46066.139047\n",
      "min        1.00000     21.000000          0.000000   25000.000000\n",
      "25%     2500.75000     27.000000          5.000000   70000.000000\n",
      "50%     5000.50000     34.000000         10.000000  120000.000000\n",
      "75%     7500.25000     43.000000         19.000000  150000.000000\n",
      "max    10000.00000     60.000000         37.000000  215000.000000\n"
     ]
    }
   ],
   "source": [
    "data_frame=pd.read_csv(\"Employers_data.csv\")\n",
    "print(data_frame.shape)\n",
    "print(data_frame.info())\n",
    "print(data_frame.describe())"
   ]
  },
  {
   "cell_type": "code",
   "execution_count": 3,
   "id": "8fd8a5a4",
   "metadata": {},
   "outputs": [],
   "source": [
    "engine=pt.init()\n",
    "voices=engine.getProperty('voices')\n",
    "engine.setProperty('voice',voices[2].id)\n",
    "engine.say(data_frame.shape)\n",
    "engine.runAndWait()\n",
    "del engine"
   ]
  },
  {
   "cell_type": "code",
   "execution_count": 4,
   "id": "d6c887af",
   "metadata": {},
   "outputs": [
    {
     "name": "stdout",
     "output_type": "stream",
     "text": [
      "Employee_ID         0\n",
      "Name                0\n",
      "Age                 0\n",
      "Gender              0\n",
      "Department          0\n",
      "Job_Title           0\n",
      "Experience_Years    0\n",
      "Education_Level     0\n",
      "Location            0\n",
      "Salary              0\n",
      "dtype: int64\n",
      "0\n"
     ]
    }
   ],
   "source": [
    "print(data_frame.isnull().sum())\n",
    "print(data_frame.duplicated().sum())"
   ]
  },
  {
   "cell_type": "code",
   "execution_count": 5,
   "id": "d385e7c8",
   "metadata": {},
   "outputs": [
    {
     "name": "stdout",
     "output_type": "stream",
     "text": [
      "Employee_ID          int64\n",
      "Name                object\n",
      "Age                  int64\n",
      "Gender              object\n",
      "Department          object\n",
      "Job_Title           object\n",
      "Experience_Years     int64\n",
      "Education_Level     object\n",
      "Location            object\n",
      "Salary               int64\n",
      "dtype: object\n"
     ]
    }
   ],
   "source": [
    "print(data_frame.dtypes)"
   ]
  },
  {
   "cell_type": "code",
   "execution_count": 6,
   "id": "9e404fbb",
   "metadata": {},
   "outputs": [
    {
     "name": "stdout",
     "output_type": "stream",
     "text": [
      "we do not need the employee ID and the name \n",
      "      Employee_ID              Name  Age  Gender   Department Job_Title  \\\n",
      "9120         9121  Margaret Daniels   37  Female  Engineering  Engineer   \n",
      "4493         4494    Virginia Weber   46  Female    Marketing   Manager   \n",
      "\n",
      "      Experience_Years Education_Level Location  Salary  \n",
      "9120                14          Master   Austin  105000  \n",
      "4493                23          Master  Chicago  150000  \n"
     ]
    }
   ],
   "source": [
    "print(\"we do not need the employee ID and the name \")\n",
    "print(data_frame.sample(2))"
   ]
  },
  {
   "cell_type": "code",
   "execution_count": 7,
   "id": "43e0d880",
   "metadata": {},
   "outputs": [],
   "source": [
    "data_frame.drop(columns=[\"Employee_ID\",\"Name\"],inplace=True)"
   ]
  },
  {
   "cell_type": "code",
   "execution_count": 8,
   "id": "fa3360ad",
   "metadata": {},
   "outputs": [
    {
     "name": "stdout",
     "output_type": "stream",
     "text": [
      "Age                  int64\n",
      "Gender              object\n",
      "Department          object\n",
      "Job_Title           object\n",
      "Experience_Years     int64\n",
      "Education_Level     object\n",
      "Location            object\n",
      "Salary               int64\n",
      "dtype: object\n"
     ]
    }
   ],
   "source": [
    "print(data_frame.dtypes)"
   ]
  },
  {
   "cell_type": "code",
   "execution_count": 9,
   "id": "477a8e14",
   "metadata": {},
   "outputs": [
    {
     "name": "stdout",
     "output_type": "stream",
     "text": [
      "['Gender', 'Department', 'Job_Title', 'Education_Level', 'Location']\n"
     ]
    }
   ],
   "source": [
    "df_objects=[]\n",
    "df_numbers=[]\n",
    "for i in data_frame.columns:\n",
    "        if(data_frame[i].dtype==\"object\"):\n",
    "                df_objects.append(i)\n",
    "        else:\n",
    "                df_numbers.append(i)\n",
    "print(df_objects)"
   ]
  },
  {
   "cell_type": "code",
   "execution_count": 10,
   "id": "0c66e482",
   "metadata": {},
   "outputs": [
    {
     "name": "stdout",
     "output_type": "stream",
     "text": [
      "(2,)\n",
      "(6,)\n",
      "(5,)\n",
      "(3,)\n",
      "(5,)\n"
     ]
    }
   ],
   "source": [
    "for i in df_objects:\n",
    "        print(data_frame[i].value_counts().shape)"
   ]
  },
  {
   "cell_type": "code",
   "execution_count": 11,
   "id": "a5800054",
   "metadata": {},
   "outputs": [],
   "source": [
    "from sklearn.preprocessing import LabelEncoder\n",
    "dict_of_encoders={}\n",
    "for i in df_objects:\n",
    "        encoder=LabelEncoder()\n",
    "        data_frame[i]=encoder.fit_transform(data_frame[i])\n",
    "        dict_of_encoders[encoder]=encoder.classes_\n"
   ]
  },
  {
   "cell_type": "code",
   "execution_count": 12,
   "id": "d247527f",
   "metadata": {},
   "outputs": [
    {
     "data": {
      "text/plain": [
       "Age                 int64\n",
       "Gender              int32\n",
       "Department          int32\n",
       "Job_Title           int32\n",
       "Experience_Years    int64\n",
       "Education_Level     int32\n",
       "Location            int32\n",
       "Salary              int64\n",
       "dtype: object"
      ]
     },
     "execution_count": 12,
     "metadata": {},
     "output_type": "execute_result"
    }
   ],
   "source": [
    "data_frame.dtypes"
   ]
  },
  {
   "cell_type": "code",
   "execution_count": 13,
   "id": "8a315e46",
   "metadata": {},
   "outputs": [
    {
     "name": "stdout",
     "output_type": "stream",
     "text": [
      "{LabelEncoder(): array(['Female', 'Male'], dtype=object), LabelEncoder(): array(['Engineering', 'Finance', 'HR', 'Marketing', 'Product', 'Sales'],\n",
      "      dtype=object), LabelEncoder(): array(['Analyst', 'Engineer', 'Executive', 'Intern', 'Manager'],\n",
      "      dtype=object), LabelEncoder(): array(['Bachelor', 'Master', 'PhD'], dtype=object), LabelEncoder(): array(['Austin', 'Chicago', 'New York', 'San Francisco', 'Seattle'],\n",
      "      dtype=object)}\n"
     ]
    }
   ],
   "source": [
    "print(dict_of_encoders)\n"
   ]
  },
  {
   "cell_type": "code",
   "execution_count": 14,
   "id": "b7b65c3a",
   "metadata": {},
   "outputs": [],
   "source": [
    "dict_list=[i for i in dict_of_encoders.keys()]\n",
    "for IDX,i in enumerate(df_objects):\n",
    "        \n",
    "        data_frame[i]=dict_list[IDX].inverse_transform(data_frame[i])\n",
    "\n",
    "        "
   ]
  },
  {
   "cell_type": "code",
   "execution_count": 15,
   "id": "f9de4ffe",
   "metadata": {},
   "outputs": [
    {
     "name": "stdout",
     "output_type": "stream",
     "text": [
      "Age                  int64\n",
      "Gender              object\n",
      "Department          object\n",
      "Job_Title           object\n",
      "Experience_Years     int64\n",
      "Education_Level     object\n",
      "Location            object\n",
      "Salary               int64\n",
      "dtype: object\n"
     ]
    }
   ],
   "source": [
    "print(data_frame.dtypes)"
   ]
  },
  {
   "cell_type": "code",
   "execution_count": 16,
   "id": "17086e4d",
   "metadata": {},
   "outputs": [],
   "source": [
    "for IDX,i in enumerate(df_objects):\n",
    "        \n",
    "        data_frame[i]=dict_list[IDX].fit_transform(data_frame[i])\n",
    "\n",
    "        "
   ]
  },
  {
   "cell_type": "code",
   "execution_count": 17,
   "id": "a4198e14",
   "metadata": {},
   "outputs": [
    {
     "name": "stdout",
     "output_type": "stream",
     "text": [
      "Age                 int64\n",
      "Gender              int32\n",
      "Department          int32\n",
      "Job_Title           int32\n",
      "Experience_Years    int64\n",
      "Education_Level     int32\n",
      "Location            int32\n",
      "Salary              int64\n",
      "dtype: object\n"
     ]
    }
   ],
   "source": [
    "print(data_frame.dtypes)"
   ]
  },
  {
   "cell_type": "code",
   "execution_count": 18,
   "id": "0e47f9ea",
   "metadata": {},
   "outputs": [
    {
     "name": "stdout",
     "output_type": "stream",
     "text": [
      "(7000, 7)\n",
      "(7000,)\n",
      "(3000, 7)\n",
      "(3000,)\n"
     ]
    }
   ],
   "source": [
    "from sklearn.model_selection import train_test_split\n",
    "from sklearn.model_selection import GridSearchCV\n",
    "from sklearn.metrics import accuracy_score\n",
    "from sklearn.ensemble import HistGradientBoostingClassifier,RandomForestClassifier\n",
    "from sklearn.svm import SVC\n",
    "X=data_frame.drop(columns=[\"Salary\"])\n",
    "y=data_frame[\"Salary\"]\n",
    "x_train,x_test,y_train,y_test=train_test_split(X,y,random_state=42,train_size=0.7)\n",
    "print(x_train.shape)\n",
    "print(y_train.shape)\n",
    "print(x_test.shape)\n",
    "print(y_test.shape)"
   ]
  },
  {
   "cell_type": "code",
   "execution_count": 19,
   "id": "04b41e6e",
   "metadata": {},
   "outputs": [],
   "source": [
    "SVM=SVC()\n",
    "hgbc=HistGradientBoostingClassifier()\n",
    "rfc=RandomForestClassifier()\n",
    "param_grid_svm={\n",
    "        \"C\":[0.1,1,0.2,0.5],\n",
    "        \"kernel\":['linear','rbf']\n",
    "}\n",
    "param_grid_hgbc={\n",
    "        \"learning_rate\":[0.01,0.1,0.05,0.007],\n",
    "        \"max_iter\":[100,200]\n",
    "\n",
    "}\n",
    "param_grid_rfc={\n",
    "        \"max_depth\":[None,10,50],\n",
    "        \"n_estimators\":[50,100]\n",
    "}"
   ]
  },
  {
   "cell_type": "code",
   "execution_count": 42,
   "id": "10a3f410",
   "metadata": {},
   "outputs": [
    {
     "name": "stdout",
     "output_type": "stream",
     "text": [
      "Fitting 5 folds for each of 8 candidates, totalling 40 fits\n"
     ]
    },
    {
     "name": "stderr",
     "output_type": "stream",
     "text": [
      "C:\\Users\\yenug\\AppData\\Roaming\\Python\\Python312\\site-packages\\sklearn\\model_selection\\_split.py:805: UserWarning: The least populated class in y has only 1 members, which is less than n_splits=5.\n",
      "  warnings.warn(\n"
     ]
    },
    {
     "name": "stdout",
     "output_type": "stream",
     "text": [
      "Fitting 5 folds for each of 6 candidates, totalling 30 fits\n"
     ]
    },
    {
     "name": "stderr",
     "output_type": "stream",
     "text": [
      "C:\\Users\\yenug\\AppData\\Roaming\\Python\\Python312\\site-packages\\sklearn\\model_selection\\_split.py:805: UserWarning: The least populated class in y has only 1 members, which is less than n_splits=5.\n",
      "  warnings.warn(\n"
     ]
    },
    {
     "name": "stdout",
     "output_type": "stream",
     "text": [
      "Fitting 5 folds for each of 8 candidates, totalling 40 fits\n"
     ]
    },
    {
     "name": "stderr",
     "output_type": "stream",
     "text": [
      "C:\\Users\\yenug\\AppData\\Roaming\\Python\\Python312\\site-packages\\sklearn\\model_selection\\_split.py:805: UserWarning: The least populated class in y has only 1 members, which is less than n_splits=5.\n",
      "  warnings.warn(\n"
     ]
    },
    {
     "data": {
      "text/html": [
       "<style>#sk-container-id-3 {\n",
       "  /* Definition of color scheme common for light and dark mode */\n",
       "  --sklearn-color-text: #000;\n",
       "  --sklearn-color-text-muted: #666;\n",
       "  --sklearn-color-line: gray;\n",
       "  /* Definition of color scheme for unfitted estimators */\n",
       "  --sklearn-color-unfitted-level-0: #fff5e6;\n",
       "  --sklearn-color-unfitted-level-1: #f6e4d2;\n",
       "  --sklearn-color-unfitted-level-2: #ffe0b3;\n",
       "  --sklearn-color-unfitted-level-3: chocolate;\n",
       "  /* Definition of color scheme for fitted estimators */\n",
       "  --sklearn-color-fitted-level-0: #f0f8ff;\n",
       "  --sklearn-color-fitted-level-1: #d4ebff;\n",
       "  --sklearn-color-fitted-level-2: #b3dbfd;\n",
       "  --sklearn-color-fitted-level-3: cornflowerblue;\n",
       "\n",
       "  /* Specific color for light theme */\n",
       "  --sklearn-color-text-on-default-background: var(--sg-text-color, var(--theme-code-foreground, var(--jp-content-font-color1, black)));\n",
       "  --sklearn-color-background: var(--sg-background-color, var(--theme-background, var(--jp-layout-color0, white)));\n",
       "  --sklearn-color-border-box: var(--sg-text-color, var(--theme-code-foreground, var(--jp-content-font-color1, black)));\n",
       "  --sklearn-color-icon: #696969;\n",
       "\n",
       "  @media (prefers-color-scheme: dark) {\n",
       "    /* Redefinition of color scheme for dark theme */\n",
       "    --sklearn-color-text-on-default-background: var(--sg-text-color, var(--theme-code-foreground, var(--jp-content-font-color1, white)));\n",
       "    --sklearn-color-background: var(--sg-background-color, var(--theme-background, var(--jp-layout-color0, #111)));\n",
       "    --sklearn-color-border-box: var(--sg-text-color, var(--theme-code-foreground, var(--jp-content-font-color1, white)));\n",
       "    --sklearn-color-icon: #878787;\n",
       "  }\n",
       "}\n",
       "\n",
       "#sk-container-id-3 {\n",
       "  color: var(--sklearn-color-text);\n",
       "}\n",
       "\n",
       "#sk-container-id-3 pre {\n",
       "  padding: 0;\n",
       "}\n",
       "\n",
       "#sk-container-id-3 input.sk-hidden--visually {\n",
       "  border: 0;\n",
       "  clip: rect(1px 1px 1px 1px);\n",
       "  clip: rect(1px, 1px, 1px, 1px);\n",
       "  height: 1px;\n",
       "  margin: -1px;\n",
       "  overflow: hidden;\n",
       "  padding: 0;\n",
       "  position: absolute;\n",
       "  width: 1px;\n",
       "}\n",
       "\n",
       "#sk-container-id-3 div.sk-dashed-wrapped {\n",
       "  border: 1px dashed var(--sklearn-color-line);\n",
       "  margin: 0 0.4em 0.5em 0.4em;\n",
       "  box-sizing: border-box;\n",
       "  padding-bottom: 0.4em;\n",
       "  background-color: var(--sklearn-color-background);\n",
       "}\n",
       "\n",
       "#sk-container-id-3 div.sk-container {\n",
       "  /* jupyter's `normalize.less` sets `[hidden] { display: none; }`\n",
       "     but bootstrap.min.css set `[hidden] { display: none !important; }`\n",
       "     so we also need the `!important` here to be able to override the\n",
       "     default hidden behavior on the sphinx rendered scikit-learn.org.\n",
       "     See: https://github.com/scikit-learn/scikit-learn/issues/21755 */\n",
       "  display: inline-block !important;\n",
       "  position: relative;\n",
       "}\n",
       "\n",
       "#sk-container-id-3 div.sk-text-repr-fallback {\n",
       "  display: none;\n",
       "}\n",
       "\n",
       "div.sk-parallel-item,\n",
       "div.sk-serial,\n",
       "div.sk-item {\n",
       "  /* draw centered vertical line to link estimators */\n",
       "  background-image: linear-gradient(var(--sklearn-color-text-on-default-background), var(--sklearn-color-text-on-default-background));\n",
       "  background-size: 2px 100%;\n",
       "  background-repeat: no-repeat;\n",
       "  background-position: center center;\n",
       "}\n",
       "\n",
       "/* Parallel-specific style estimator block */\n",
       "\n",
       "#sk-container-id-3 div.sk-parallel-item::after {\n",
       "  content: \"\";\n",
       "  width: 100%;\n",
       "  border-bottom: 2px solid var(--sklearn-color-text-on-default-background);\n",
       "  flex-grow: 1;\n",
       "}\n",
       "\n",
       "#sk-container-id-3 div.sk-parallel {\n",
       "  display: flex;\n",
       "  align-items: stretch;\n",
       "  justify-content: center;\n",
       "  background-color: var(--sklearn-color-background);\n",
       "  position: relative;\n",
       "}\n",
       "\n",
       "#sk-container-id-3 div.sk-parallel-item {\n",
       "  display: flex;\n",
       "  flex-direction: column;\n",
       "}\n",
       "\n",
       "#sk-container-id-3 div.sk-parallel-item:first-child::after {\n",
       "  align-self: flex-end;\n",
       "  width: 50%;\n",
       "}\n",
       "\n",
       "#sk-container-id-3 div.sk-parallel-item:last-child::after {\n",
       "  align-self: flex-start;\n",
       "  width: 50%;\n",
       "}\n",
       "\n",
       "#sk-container-id-3 div.sk-parallel-item:only-child::after {\n",
       "  width: 0;\n",
       "}\n",
       "\n",
       "/* Serial-specific style estimator block */\n",
       "\n",
       "#sk-container-id-3 div.sk-serial {\n",
       "  display: flex;\n",
       "  flex-direction: column;\n",
       "  align-items: center;\n",
       "  background-color: var(--sklearn-color-background);\n",
       "  padding-right: 1em;\n",
       "  padding-left: 1em;\n",
       "}\n",
       "\n",
       "\n",
       "/* Toggleable style: style used for estimator/Pipeline/ColumnTransformer box that is\n",
       "clickable and can be expanded/collapsed.\n",
       "- Pipeline and ColumnTransformer use this feature and define the default style\n",
       "- Estimators will overwrite some part of the style using the `sk-estimator` class\n",
       "*/\n",
       "\n",
       "/* Pipeline and ColumnTransformer style (default) */\n",
       "\n",
       "#sk-container-id-3 div.sk-toggleable {\n",
       "  /* Default theme specific background. It is overwritten whether we have a\n",
       "  specific estimator or a Pipeline/ColumnTransformer */\n",
       "  background-color: var(--sklearn-color-background);\n",
       "}\n",
       "\n",
       "/* Toggleable label */\n",
       "#sk-container-id-3 label.sk-toggleable__label {\n",
       "  cursor: pointer;\n",
       "  display: flex;\n",
       "  width: 100%;\n",
       "  margin-bottom: 0;\n",
       "  padding: 0.5em;\n",
       "  box-sizing: border-box;\n",
       "  text-align: center;\n",
       "  align-items: start;\n",
       "  justify-content: space-between;\n",
       "  gap: 0.5em;\n",
       "}\n",
       "\n",
       "#sk-container-id-3 label.sk-toggleable__label .caption {\n",
       "  font-size: 0.6rem;\n",
       "  font-weight: lighter;\n",
       "  color: var(--sklearn-color-text-muted);\n",
       "}\n",
       "\n",
       "#sk-container-id-3 label.sk-toggleable__label-arrow:before {\n",
       "  /* Arrow on the left of the label */\n",
       "  content: \"▸\";\n",
       "  float: left;\n",
       "  margin-right: 0.25em;\n",
       "  color: var(--sklearn-color-icon);\n",
       "}\n",
       "\n",
       "#sk-container-id-3 label.sk-toggleable__label-arrow:hover:before {\n",
       "  color: var(--sklearn-color-text);\n",
       "}\n",
       "\n",
       "/* Toggleable content - dropdown */\n",
       "\n",
       "#sk-container-id-3 div.sk-toggleable__content {\n",
       "  max-height: 0;\n",
       "  max-width: 0;\n",
       "  overflow: hidden;\n",
       "  text-align: left;\n",
       "  /* unfitted */\n",
       "  background-color: var(--sklearn-color-unfitted-level-0);\n",
       "}\n",
       "\n",
       "#sk-container-id-3 div.sk-toggleable__content.fitted {\n",
       "  /* fitted */\n",
       "  background-color: var(--sklearn-color-fitted-level-0);\n",
       "}\n",
       "\n",
       "#sk-container-id-3 div.sk-toggleable__content pre {\n",
       "  margin: 0.2em;\n",
       "  border-radius: 0.25em;\n",
       "  color: var(--sklearn-color-text);\n",
       "  /* unfitted */\n",
       "  background-color: var(--sklearn-color-unfitted-level-0);\n",
       "}\n",
       "\n",
       "#sk-container-id-3 div.sk-toggleable__content.fitted pre {\n",
       "  /* unfitted */\n",
       "  background-color: var(--sklearn-color-fitted-level-0);\n",
       "}\n",
       "\n",
       "#sk-container-id-3 input.sk-toggleable__control:checked~div.sk-toggleable__content {\n",
       "  /* Expand drop-down */\n",
       "  max-height: 200px;\n",
       "  max-width: 100%;\n",
       "  overflow: auto;\n",
       "}\n",
       "\n",
       "#sk-container-id-3 input.sk-toggleable__control:checked~label.sk-toggleable__label-arrow:before {\n",
       "  content: \"▾\";\n",
       "}\n",
       "\n",
       "/* Pipeline/ColumnTransformer-specific style */\n",
       "\n",
       "#sk-container-id-3 div.sk-label input.sk-toggleable__control:checked~label.sk-toggleable__label {\n",
       "  color: var(--sklearn-color-text);\n",
       "  background-color: var(--sklearn-color-unfitted-level-2);\n",
       "}\n",
       "\n",
       "#sk-container-id-3 div.sk-label.fitted input.sk-toggleable__control:checked~label.sk-toggleable__label {\n",
       "  background-color: var(--sklearn-color-fitted-level-2);\n",
       "}\n",
       "\n",
       "/* Estimator-specific style */\n",
       "\n",
       "/* Colorize estimator box */\n",
       "#sk-container-id-3 div.sk-estimator input.sk-toggleable__control:checked~label.sk-toggleable__label {\n",
       "  /* unfitted */\n",
       "  background-color: var(--sklearn-color-unfitted-level-2);\n",
       "}\n",
       "\n",
       "#sk-container-id-3 div.sk-estimator.fitted input.sk-toggleable__control:checked~label.sk-toggleable__label {\n",
       "  /* fitted */\n",
       "  background-color: var(--sklearn-color-fitted-level-2);\n",
       "}\n",
       "\n",
       "#sk-container-id-3 div.sk-label label.sk-toggleable__label,\n",
       "#sk-container-id-3 div.sk-label label {\n",
       "  /* The background is the default theme color */\n",
       "  color: var(--sklearn-color-text-on-default-background);\n",
       "}\n",
       "\n",
       "/* On hover, darken the color of the background */\n",
       "#sk-container-id-3 div.sk-label:hover label.sk-toggleable__label {\n",
       "  color: var(--sklearn-color-text);\n",
       "  background-color: var(--sklearn-color-unfitted-level-2);\n",
       "}\n",
       "\n",
       "/* Label box, darken color on hover, fitted */\n",
       "#sk-container-id-3 div.sk-label.fitted:hover label.sk-toggleable__label.fitted {\n",
       "  color: var(--sklearn-color-text);\n",
       "  background-color: var(--sklearn-color-fitted-level-2);\n",
       "}\n",
       "\n",
       "/* Estimator label */\n",
       "\n",
       "#sk-container-id-3 div.sk-label label {\n",
       "  font-family: monospace;\n",
       "  font-weight: bold;\n",
       "  display: inline-block;\n",
       "  line-height: 1.2em;\n",
       "}\n",
       "\n",
       "#sk-container-id-3 div.sk-label-container {\n",
       "  text-align: center;\n",
       "}\n",
       "\n",
       "/* Estimator-specific */\n",
       "#sk-container-id-3 div.sk-estimator {\n",
       "  font-family: monospace;\n",
       "  border: 1px dotted var(--sklearn-color-border-box);\n",
       "  border-radius: 0.25em;\n",
       "  box-sizing: border-box;\n",
       "  margin-bottom: 0.5em;\n",
       "  /* unfitted */\n",
       "  background-color: var(--sklearn-color-unfitted-level-0);\n",
       "}\n",
       "\n",
       "#sk-container-id-3 div.sk-estimator.fitted {\n",
       "  /* fitted */\n",
       "  background-color: var(--sklearn-color-fitted-level-0);\n",
       "}\n",
       "\n",
       "/* on hover */\n",
       "#sk-container-id-3 div.sk-estimator:hover {\n",
       "  /* unfitted */\n",
       "  background-color: var(--sklearn-color-unfitted-level-2);\n",
       "}\n",
       "\n",
       "#sk-container-id-3 div.sk-estimator.fitted:hover {\n",
       "  /* fitted */\n",
       "  background-color: var(--sklearn-color-fitted-level-2);\n",
       "}\n",
       "\n",
       "/* Specification for estimator info (e.g. \"i\" and \"?\") */\n",
       "\n",
       "/* Common style for \"i\" and \"?\" */\n",
       "\n",
       ".sk-estimator-doc-link,\n",
       "a:link.sk-estimator-doc-link,\n",
       "a:visited.sk-estimator-doc-link {\n",
       "  float: right;\n",
       "  font-size: smaller;\n",
       "  line-height: 1em;\n",
       "  font-family: monospace;\n",
       "  background-color: var(--sklearn-color-background);\n",
       "  border-radius: 1em;\n",
       "  height: 1em;\n",
       "  width: 1em;\n",
       "  text-decoration: none !important;\n",
       "  margin-left: 0.5em;\n",
       "  text-align: center;\n",
       "  /* unfitted */\n",
       "  border: var(--sklearn-color-unfitted-level-1) 1pt solid;\n",
       "  color: var(--sklearn-color-unfitted-level-1);\n",
       "}\n",
       "\n",
       ".sk-estimator-doc-link.fitted,\n",
       "a:link.sk-estimator-doc-link.fitted,\n",
       "a:visited.sk-estimator-doc-link.fitted {\n",
       "  /* fitted */\n",
       "  border: var(--sklearn-color-fitted-level-1) 1pt solid;\n",
       "  color: var(--sklearn-color-fitted-level-1);\n",
       "}\n",
       "\n",
       "/* On hover */\n",
       "div.sk-estimator:hover .sk-estimator-doc-link:hover,\n",
       ".sk-estimator-doc-link:hover,\n",
       "div.sk-label-container:hover .sk-estimator-doc-link:hover,\n",
       ".sk-estimator-doc-link:hover {\n",
       "  /* unfitted */\n",
       "  background-color: var(--sklearn-color-unfitted-level-3);\n",
       "  color: var(--sklearn-color-background);\n",
       "  text-decoration: none;\n",
       "}\n",
       "\n",
       "div.sk-estimator.fitted:hover .sk-estimator-doc-link.fitted:hover,\n",
       ".sk-estimator-doc-link.fitted:hover,\n",
       "div.sk-label-container:hover .sk-estimator-doc-link.fitted:hover,\n",
       ".sk-estimator-doc-link.fitted:hover {\n",
       "  /* fitted */\n",
       "  background-color: var(--sklearn-color-fitted-level-3);\n",
       "  color: var(--sklearn-color-background);\n",
       "  text-decoration: none;\n",
       "}\n",
       "\n",
       "/* Span, style for the box shown on hovering the info icon */\n",
       ".sk-estimator-doc-link span {\n",
       "  display: none;\n",
       "  z-index: 9999;\n",
       "  position: relative;\n",
       "  font-weight: normal;\n",
       "  right: .2ex;\n",
       "  padding: .5ex;\n",
       "  margin: .5ex;\n",
       "  width: min-content;\n",
       "  min-width: 20ex;\n",
       "  max-width: 50ex;\n",
       "  color: var(--sklearn-color-text);\n",
       "  box-shadow: 2pt 2pt 4pt #999;\n",
       "  /* unfitted */\n",
       "  background: var(--sklearn-color-unfitted-level-0);\n",
       "  border: .5pt solid var(--sklearn-color-unfitted-level-3);\n",
       "}\n",
       "\n",
       ".sk-estimator-doc-link.fitted span {\n",
       "  /* fitted */\n",
       "  background: var(--sklearn-color-fitted-level-0);\n",
       "  border: var(--sklearn-color-fitted-level-3);\n",
       "}\n",
       "\n",
       ".sk-estimator-doc-link:hover span {\n",
       "  display: block;\n",
       "}\n",
       "\n",
       "/* \"?\"-specific style due to the `<a>` HTML tag */\n",
       "\n",
       "#sk-container-id-3 a.estimator_doc_link {\n",
       "  float: right;\n",
       "  font-size: 1rem;\n",
       "  line-height: 1em;\n",
       "  font-family: monospace;\n",
       "  background-color: var(--sklearn-color-background);\n",
       "  border-radius: 1rem;\n",
       "  height: 1rem;\n",
       "  width: 1rem;\n",
       "  text-decoration: none;\n",
       "  /* unfitted */\n",
       "  color: var(--sklearn-color-unfitted-level-1);\n",
       "  border: var(--sklearn-color-unfitted-level-1) 1pt solid;\n",
       "}\n",
       "\n",
       "#sk-container-id-3 a.estimator_doc_link.fitted {\n",
       "  /* fitted */\n",
       "  border: var(--sklearn-color-fitted-level-1) 1pt solid;\n",
       "  color: var(--sklearn-color-fitted-level-1);\n",
       "}\n",
       "\n",
       "/* On hover */\n",
       "#sk-container-id-3 a.estimator_doc_link:hover {\n",
       "  /* unfitted */\n",
       "  background-color: var(--sklearn-color-unfitted-level-3);\n",
       "  color: var(--sklearn-color-background);\n",
       "  text-decoration: none;\n",
       "}\n",
       "\n",
       "#sk-container-id-3 a.estimator_doc_link.fitted:hover {\n",
       "  /* fitted */\n",
       "  background-color: var(--sklearn-color-fitted-level-3);\n",
       "}\n",
       "</style><div id=\"sk-container-id-3\" class=\"sk-top-container\"><div class=\"sk-text-repr-fallback\"><pre>GridSearchCV(cv=5, estimator=HistGradientBoostingClassifier(),\n",
       "             param_grid={&#x27;learning_rate&#x27;: [0.01, 0.1, 0.05, 0.007],\n",
       "                         &#x27;max_iter&#x27;: [100, 200]},\n",
       "             scoring=&#x27;accuracy&#x27;, verbose=1)</pre><b>In a Jupyter environment, please rerun this cell to show the HTML representation or trust the notebook. <br />On GitHub, the HTML representation is unable to render, please try loading this page with nbviewer.org.</b></div><div class=\"sk-container\" hidden><div class=\"sk-item sk-dashed-wrapped\"><div class=\"sk-label-container\"><div class=\"sk-label fitted sk-toggleable\"><input class=\"sk-toggleable__control sk-hidden--visually\" id=\"sk-estimator-id-7\" type=\"checkbox\" ><label for=\"sk-estimator-id-7\" class=\"sk-toggleable__label fitted sk-toggleable__label-arrow\"><div><div>GridSearchCV</div></div><div><a class=\"sk-estimator-doc-link fitted\" rel=\"noreferrer\" target=\"_blank\" href=\"https://scikit-learn.org/1.6/modules/generated/sklearn.model_selection.GridSearchCV.html\">?<span>Documentation for GridSearchCV</span></a><span class=\"sk-estimator-doc-link fitted\">i<span>Fitted</span></span></div></label><div class=\"sk-toggleable__content fitted\"><pre>GridSearchCV(cv=5, estimator=HistGradientBoostingClassifier(),\n",
       "             param_grid={&#x27;learning_rate&#x27;: [0.01, 0.1, 0.05, 0.007],\n",
       "                         &#x27;max_iter&#x27;: [100, 200]},\n",
       "             scoring=&#x27;accuracy&#x27;, verbose=1)</pre></div> </div></div><div class=\"sk-parallel\"><div class=\"sk-parallel-item\"><div class=\"sk-item\"><div class=\"sk-label-container\"><div class=\"sk-label fitted sk-toggleable\"><input class=\"sk-toggleable__control sk-hidden--visually\" id=\"sk-estimator-id-8\" type=\"checkbox\" ><label for=\"sk-estimator-id-8\" class=\"sk-toggleable__label fitted sk-toggleable__label-arrow\"><div><div>best_estimator_: HistGradientBoostingClassifier</div></div></label><div class=\"sk-toggleable__content fitted\"><pre>HistGradientBoostingClassifier(learning_rate=0.007)</pre></div> </div></div><div class=\"sk-serial\"><div class=\"sk-item\"><div class=\"sk-estimator fitted sk-toggleable\"><input class=\"sk-toggleable__control sk-hidden--visually\" id=\"sk-estimator-id-9\" type=\"checkbox\" ><label for=\"sk-estimator-id-9\" class=\"sk-toggleable__label fitted sk-toggleable__label-arrow\"><div><div>HistGradientBoostingClassifier</div></div><div><a class=\"sk-estimator-doc-link fitted\" rel=\"noreferrer\" target=\"_blank\" href=\"https://scikit-learn.org/1.6/modules/generated/sklearn.ensemble.HistGradientBoostingClassifier.html\">?<span>Documentation for HistGradientBoostingClassifier</span></a></div></label><div class=\"sk-toggleable__content fitted\"><pre>HistGradientBoostingClassifier(learning_rate=0.007)</pre></div> </div></div></div></div></div></div></div></div></div>"
      ],
      "text/plain": [
       "GridSearchCV(cv=5, estimator=HistGradientBoostingClassifier(),\n",
       "             param_grid={'learning_rate': [0.01, 0.1, 0.05, 0.007],\n",
       "                         'max_iter': [100, 200]},\n",
       "             scoring='accuracy', verbose=1)"
      ]
     },
     "execution_count": 42,
     "metadata": {},
     "output_type": "execute_result"
    }
   ],
   "source": [
    "grid_search_svm=GridSearchCV(estimator=SVM,param_grid=param_grid_svm,cv=5,scoring=\"accuracy\",verbose=1)\n",
    "grid_search_hgbc=GridSearchCV(estimator=hgbc,param_grid=param_grid_hgbc,cv=5,scoring=\"accuracy\",verbose=1)\n",
    "grid_search_rfc=GridSearchCV(estimator=rfc,param_grid=param_grid_rfc,cv=5,scoring=\"accuracy\",verbose=1)\n",
    "grid_search_svm.fit(x_train,y_train)\n",
    "grid_search_rfc.fit(x_train,y_train)\n",
    "grid_search_hgbc.fit(x_train,y_train)\n"
   ]
  },
  {
   "cell_type": "code",
   "execution_count": 43,
   "id": "3867e17f",
   "metadata": {},
   "outputs": [
    {
     "name": "stdout",
     "output_type": "stream",
     "text": [
      "0.42314285714285715 {'C': 0.5, 'kernel': 'linear'}\n",
      "0.39728571428571435 {'max_depth': 10, 'n_estimators': 100}\n",
      "0.3968571428571429 {'learning_rate': 0.007, 'max_iter': 100}\n"
     ]
    }
   ],
   "source": [
    "hgbc_1=grid_search_hgbc.best_estimator_\n",
    "rfc_1=grid_search_rfc.best_estimator_\n",
    "svm_1=grid_search_svm.best_estimator_\n",
    "print(grid_search_svm.best_score_,grid_search_svm.best_params_)\n",
    "print(grid_search_rfc.best_score_,grid_search_rfc.best_params_)\n",
    "print(grid_search_hgbc.best_score_,grid_search_hgbc.best_params_)"
   ]
  },
  {
   "cell_type": "code",
   "execution_count": 44,
   "id": "8cd592c4",
   "metadata": {},
   "outputs": [
    {
     "name": "stdout",
     "output_type": "stream",
     "text": [
      "0.4076666666666667\n",
      "0.38966666666666666\n",
      "0.43\n"
     ]
    }
   ],
   "source": [
    "y_prediction1=hgbc_1.predict(x_test)\n",
    "y_prediction2=rfc_1.predict(x_test)\n",
    "y_prediction3=svm_1.predict(x_test)\n",
    "print(accuracy_score(y_prediction1,y_test))\n",
    "print(accuracy_score(y_prediction2,y_test))\n",
    "print(accuracy_score(y_prediction3,y_test))"
   ]
  },
  {
   "cell_type": "code",
   "execution_count": 45,
   "id": "0b74da23",
   "metadata": {},
   "outputs": [],
   "source": [
    "acc_df=pd.DataFrame(\n",
    "        [[\n",
    "                \"SVM\",accuracy_score(y_prediction3,y_test)*100\n",
    "        ],\n",
    "        [\n",
    "                \"rfc\",accuracy_score(y_prediction2,y_test)*100\n",
    "        ],\n",
    "        [\n",
    "                \"hgbc\",accuracy_score(y_prediction1,y_test)*100\n",
    "        ]],\n",
    "        columns=[\"Model_Type\",\"Accuracy\"]\n",
    ")"
   ]
  },
  {
   "cell_type": "code",
   "execution_count": 46,
   "id": "f41522e4",
   "metadata": {},
   "outputs": [
    {
     "name": "stdout",
     "output_type": "stream",
     "text": [
      "  Model_Type   Accuracy\n",
      "0        SVM  43.000000\n",
      "1        rfc  38.966667\n",
      "2       hgbc  40.766667\n"
     ]
    }
   ],
   "source": [
    "print(acc_df)"
   ]
  },
  {
   "cell_type": "code",
   "execution_count": 20,
   "id": "0ec8902c",
   "metadata": {},
   "outputs": [
    {
     "name": "stdout",
     "output_type": "stream",
     "text": [
      "<class 'pandas.core.frame.DataFrame'> <class 'pandas.core.frame.DataFrame'> <class 'pandas.core.series.Series'> <class 'pandas.core.series.Series'>\n",
      "<class 'numpy.ndarray'> <class 'numpy.ndarray'> <class 'numpy.ndarray'> <class 'numpy.ndarray'>\n"
     ]
    }
   ],
   "source": [
    "x_train_np=x_train.to_numpy()\n",
    "x_test_np=x_test.to_numpy()\n",
    "y_train_np=y_train.to_numpy()\n",
    "y_test_np=y_test.to_numpy()\n",
    "print(type(x_train),type(x_test),type(y_train),type(y_test))\n",
    "print(type(x_train_np),type(x_test_np),type(y_train_np),type(y_test_np))"
   ]
  },
  {
   "cell_type": "code",
   "execution_count": 21,
   "id": "4ceca2fd",
   "metadata": {},
   "outputs": [],
   "source": [
    "import torch as t\n",
    "import torch.nn as nn\n",
    "from torch.utils.data import Dataset\n",
    "from torch.utils.data import DataLoader\n",
    "import torch.optim as optim\n",
    "from torchinfo import summary\n"
   ]
  },
  {
   "cell_type": "code",
   "execution_count": 22,
   "id": "fb229a97",
   "metadata": {},
   "outputs": [
    {
     "name": "stdout",
     "output_type": "stream",
     "text": [
      "<class 'torch.Tensor'>\n"
     ]
    }
   ],
   "source": [
    "x_train_tensor=t.from_numpy(x_train_np)\n",
    "x_test_tensor=t.from_numpy(x_test_np)\n",
    "y_test_tensor=t.from_numpy(y_test_np)\n",
    "y_train_tensor=t.from_numpy(y_train_np)\n",
    "print(type(x_train_tensor))"
   ]
  },
  {
   "cell_type": "code",
   "execution_count": 23,
   "id": "9784f4f5",
   "metadata": {},
   "outputs": [
    {
     "name": "stdout",
     "output_type": "stream",
     "text": [
      "torch.Size([7000, 7])\n",
      "torch.Size([3000, 7])\n",
      "torch.Size([3000])\n",
      "torch.Size([7000])\n"
     ]
    }
   ],
   "source": [
    "print(x_train_tensor.shape)\n",
    "print(x_test_tensor.shape)\n",
    "print(y_test_tensor.shape)\n",
    "print(y_train_tensor.shape)\n"
   ]
  },
  {
   "cell_type": "code",
   "execution_count": 24,
   "id": "aedea938",
   "metadata": {},
   "outputs": [],
   "source": [
    "from sklearn.preprocessing import StandardScaler\n",
    "scaler=StandardScaler()\n",
    "x_train_tensor=scaler.fit_transform(x_train_tensor)\n",
    "x_test_tensor=scaler.fit_transform(x_test_tensor)"
   ]
  },
  {
   "cell_type": "code",
   "execution_count": 35,
   "id": "5aa47e84",
   "metadata": {},
   "outputs": [],
   "source": [
    "class Datasetter(Dataset):\n",
    "        def __init__(self,x,y):\n",
    "                self.x=x\n",
    "                self.y=y\n",
    "        def __len__(self):\n",
    "                return len(self.y)\n",
    "        def __getitem__(self, index):\n",
    "                return self.x[index],self.y[index]"
   ]
  },
  {
   "cell_type": "code",
   "execution_count": 36,
   "id": "b53960aa",
   "metadata": {},
   "outputs": [],
   "source": [
    "train_dataset=Datasetter(x_train_tensor,y_train_tensor)\n",
    "test_dataset=Datasetter(x_test_tensor,y_test_tensor)"
   ]
  },
  {
   "cell_type": "code",
   "execution_count": 38,
   "id": "35a5bfb8",
   "metadata": {},
   "outputs": [
    {
     "name": "stdout",
     "output_type": "stream",
     "text": [
      "7000\n",
      "3000\n"
     ]
    }
   ],
   "source": [
    "print(len(train_dataset))\n",
    "print(len(test_dataset))"
   ]
  },
  {
   "cell_type": "code",
   "execution_count": 40,
   "id": "3864ca6b",
   "metadata": {},
   "outputs": [],
   "source": [
    "train_dataloader=DataLoader(dataset=train_dataset,shuffle=True,batch_size=32,drop_last=True)\n",
    "test_dataloader=DataLoader(dataset=test_dataset,shuffle=True,batch_size=32,drop_last=True)"
   ]
  },
  {
   "cell_type": "code",
   "execution_count": 42,
   "id": "d7dda11f",
   "metadata": {},
   "outputs": [
    {
     "name": "stdout",
     "output_type": "stream",
     "text": [
      "218\n",
      "93\n"
     ]
    }
   ],
   "source": [
    "print(len(train_dataloader))\n",
    "print(len(test_dataloader))"
   ]
  },
  {
   "cell_type": "code",
   "execution_count": null,
   "id": "aff2d964",
   "metadata": {},
   "outputs": [],
   "source": [
    "class Torch_model(nn.Module):\n",
    "        def __init__(self,inp,hid,out):\n",
    "                super().__init__()\n",
    "                self.layer1=nn.Sequential(\n",
    "                        nn.Linear(in_features=inp,out_features=hid),\n",
    "                        nn.LeakyReLU(0.2,inplace=True)\n",
    "                )\n",
    "                self.layer2=nn.Sequential(\n",
    "                        nn.Linear(in_features=hid,out_features=hid*2),\n",
    "                        nn.LeakyReLU(0.2,inplace=True)\n",
    "                )\n",
    "                self.layer3=nn.Sequential(\n",
    "                        nn.Linear(in_features=hid*2,out_features=hid),\n",
    "                        nn.LeakyReLU(0.2,inplace=True)\n",
    "                )\n",
    "                self.regressor=nn.Sequential(\n",
    "                        nn.Linear(hid,out)\n",
    "                )\n",
    "        def forward(self,x):\n",
    "                return self.regressor(self.layer3(self.layer2(self.layer1(x))))\n"
   ]
  },
  {
   "cell_type": "code",
   "execution_count": 45,
   "id": "4d532cdb",
   "metadata": {},
   "outputs": [
    {
     "data": {
      "text/plain": [
       "==========================================================================================\n",
       "Layer (type:depth-idx)                   Output Shape              Param #\n",
       "==========================================================================================\n",
       "Torch_model                              [32, 1]                   --\n",
       "├─Sequential: 1-1                        [32, 64]                  --\n",
       "│    └─Linear: 2-1                       [32, 64]                  512\n",
       "│    └─LeakyReLU: 2-2                    [32, 64]                  --\n",
       "├─Sequential: 1-2                        [32, 128]                 --\n",
       "│    └─Linear: 2-3                       [32, 128]                 8,320\n",
       "│    └─LeakyReLU: 2-4                    [32, 128]                 --\n",
       "├─Sequential: 1-3                        [32, 64]                  --\n",
       "│    └─Linear: 2-5                       [32, 64]                  8,256\n",
       "│    └─LeakyReLU: 2-6                    [32, 64]                  --\n",
       "├─Sequential: 1-4                        [32, 1]                   --\n",
       "│    └─Linear: 2-7                       [32, 1]                   65\n",
       "==========================================================================================\n",
       "Total params: 17,153\n",
       "Trainable params: 17,153\n",
       "Non-trainable params: 0\n",
       "Total mult-adds (Units.MEGABYTES): 0.55\n",
       "==========================================================================================\n",
       "Input size (MB): 0.00\n",
       "Forward/backward pass size (MB): 0.07\n",
       "Params size (MB): 0.07\n",
       "Estimated Total Size (MB): 0.14\n",
       "=========================================================================================="
      ]
     },
     "execution_count": 45,
     "metadata": {},
     "output_type": "execute_result"
    }
   ],
   "source": [
    "Model_torc=Torch_model(\n",
    "        inp=7,\n",
    "        hid=64,\n",
    "        out=1\n",
    ")\n",
    "summary(Model_torc,input_size=(32,7))"
   ]
  },
  {
   "cell_type": "code",
   "execution_count": 51,
   "id": "ab038a8d",
   "metadata": {},
   "outputs": [],
   "source": [
    "optimizer=optim.Adam(params=Model_torc.parameters(),lr=0.0001)\n",
    "criterion=t.nn.HuberLoss(delta=1)"
   ]
  },
  {
   "cell_type": "code",
   "execution_count": 52,
   "id": "04ce67d4",
   "metadata": {},
   "outputs": [
    {
     "name": "stdout",
     "output_type": "stream",
     "text": [
      "\u001b[1;36m Epoch : 0\u001b[0m\n",
      "\u001b[1;31m Train loss : 39173.819410714284\u001b[0m\n",
      "\u001b[1;32m Test loss: 39452.81210416667\u001b[0m\n",
      "\u001b[1;34m ==================================================================================================================================================================================== \u001b[0m\n",
      "\u001b[1;36m Epoch : 1\u001b[0m\n",
      "\u001b[1;31m Train loss : 39165.41091071429\u001b[0m\n",
      "\u001b[1;32m Test loss: 39384.9141875\u001b[0m\n",
      "\u001b[1;34m ==================================================================================================================================================================================== \u001b[0m\n",
      "\u001b[1;36m Epoch : 2\u001b[0m\n",
      "\u001b[1;31m Train loss : 39160.286375\u001b[0m\n",
      "\u001b[1;32m Test loss: 39418.64391666667\u001b[0m\n",
      "\u001b[1;34m ==================================================================================================================================================================================== \u001b[0m\n",
      "\u001b[1;36m Epoch : 3\u001b[0m\n",
      "\u001b[1;31m Train loss : 39163.75002678572\u001b[0m\n",
      "\u001b[1;32m Test loss: 39431.574145833336\u001b[0m\n",
      "\u001b[1;34m ==================================================================================================================================================================================== \u001b[0m\n",
      "\u001b[1;36m Epoch : 4\u001b[0m\n",
      "\u001b[1;31m Train loss : 39125.12996428571\u001b[0m\n",
      "\u001b[1;32m Test loss: 39341.08266666667\u001b[0m\n",
      "\u001b[1;34m ==================================================================================================================================================================================== \u001b[0m\n",
      "\u001b[1;36m Epoch : 5\u001b[0m\n",
      "\u001b[1;31m Train loss : 39148.722571428574\u001b[0m\n",
      "\u001b[1;32m Test loss: 39425.3759375\u001b[0m\n",
      "\u001b[1;34m ==================================================================================================================================================================================== \u001b[0m\n",
      "\u001b[1;36m Epoch : 6\u001b[0m\n",
      "\u001b[1;31m Train loss : 39181.40311607143\u001b[0m\n",
      "\u001b[1;32m Test loss: 39368.0824375\u001b[0m\n",
      "\u001b[1;34m ==================================================================================================================================================================================== \u001b[0m\n",
      "\u001b[1;36m Epoch : 7\u001b[0m\n",
      "\u001b[1;31m Train loss : 39156.27938392857\u001b[0m\n",
      "\u001b[1;32m Test loss: 39461.891229166664\u001b[0m\n",
      "\u001b[1;34m ==================================================================================================================================================================================== \u001b[0m\n",
      "\u001b[1;36m Epoch : 8\u001b[0m\n",
      "\u001b[1;31m Train loss : 39148.13166071429\u001b[0m\n",
      "\u001b[1;32m Test loss: 39365.15679166667\u001b[0m\n",
      "\u001b[1;34m ==================================================================================================================================================================================== \u001b[0m\n",
      "\u001b[1;36m Epoch : 9\u001b[0m\n",
      "\u001b[1;31m Train loss : 39163.69189285714\u001b[0m\n",
      "\u001b[1;32m Test loss: 39359.78927083333\u001b[0m\n",
      "\u001b[1;34m ==================================================================================================================================================================================== \u001b[0m\n",
      "\u001b[1;36m Epoch : 10\u001b[0m\n",
      "\u001b[1;31m Train loss : 39133.93579464286\u001b[0m\n",
      "\u001b[1;32m Test loss: 39384.000166666665\u001b[0m\n",
      "\u001b[1;34m ==================================================================================================================================================================================== \u001b[0m\n",
      "\u001b[1;36m Epoch : 11\u001b[0m\n",
      "\u001b[1;31m Train loss : 39149.363973214284\u001b[0m\n",
      "\u001b[1;32m Test loss: 39345.88247916667\u001b[0m\n",
      "\u001b[1;34m ==================================================================================================================================================================================== \u001b[0m\n",
      "\u001b[1;36m Epoch : 12\u001b[0m\n",
      "\u001b[1;31m Train loss : 39117.879\u001b[0m\n",
      "\u001b[1;32m Test loss: 39348.355395833336\u001b[0m\n",
      "\u001b[1;34m ==================================================================================================================================================================================== \u001b[0m\n",
      "\u001b[1;36m Epoch : 13\u001b[0m\n",
      "\u001b[1;31m Train loss : 39150.84094642857\u001b[0m\n",
      "\u001b[1;32m Test loss: 39403.282479166664\u001b[0m\n",
      "\u001b[1;34m ==================================================================================================================================================================================== \u001b[0m\n",
      "\u001b[1;36m Epoch : 14\u001b[0m\n",
      "\u001b[1;31m Train loss : 39173.008258928574\u001b[0m\n",
      "\u001b[1;32m Test loss: 39427.8705625\u001b[0m\n",
      "\u001b[1;34m ==================================================================================================================================================================================== \u001b[0m\n",
      "\u001b[1;36m Epoch : 15\u001b[0m\n",
      "\u001b[1;31m Train loss : 39153.62029464286\u001b[0m\n",
      "\u001b[1;32m Test loss: 39391.08527083333\u001b[0m\n",
      "\u001b[1;34m ==================================================================================================================================================================================== \u001b[0m\n",
      "\u001b[1;36m Epoch : 16\u001b[0m\n",
      "\u001b[1;31m Train loss : 39156.89177678571\u001b[0m\n",
      "\u001b[1;32m Test loss: 39365.03895833333\u001b[0m\n",
      "\u001b[1;34m ==================================================================================================================================================================================== \u001b[0m\n",
      "\u001b[1;36m Epoch : 17\u001b[0m\n",
      "\u001b[1;31m Train loss : 39165.59059821429\u001b[0m\n",
      "\u001b[1;32m Test loss: 39383.36295833333\u001b[0m\n",
      "\u001b[1;34m ==================================================================================================================================================================================== \u001b[0m\n",
      "\u001b[1;36m Epoch : 18\u001b[0m\n",
      "\u001b[1;31m Train loss : 39160.27666964286\u001b[0m\n",
      "\u001b[1;32m Test loss: 39405.285375\u001b[0m\n",
      "\u001b[1;34m ==================================================================================================================================================================================== \u001b[0m\n",
      "\u001b[1;36m Epoch : 19\u001b[0m\n",
      "\u001b[1;31m Train loss : 39166.053928571426\u001b[0m\n",
      "\u001b[1;32m Test loss: 39369.167895833336\u001b[0m\n",
      "\u001b[1;34m ==================================================================================================================================================================================== \u001b[0m\n"
     ]
    }
   ],
   "source": [
    "epochs=20\n",
    "Model_torc.to(t.float32)\n",
    "for epoch in range(epochs):\n",
    "        train_loss=0\n",
    "        test_loss=0\n",
    "        Model_torc.train()\n",
    "        for batch in train_dataloader:\n",
    "                (x,y)=batch\n",
    "                x=x.to(t.float32)\n",
    "                y=y.to(t.float32)\n",
    "                y_preds=Model_torc(x)\n",
    "                loss=criterion(y_preds,y)\n",
    "                train_loss+=loss.item()*32\n",
    "                optimizer.zero_grad()\n",
    "                loss.backward()\n",
    "                optimizer.step()\n",
    "        Model_torc.eval()\n",
    "        with t.inference_mode():\n",
    "                for batch in test_dataloader:\n",
    "                        (x,y)=batch\n",
    "                        x=x.to(t.float32)\n",
    "                        y=y.to(t.float32)\n",
    "                        y_preds=Model_torc(x)\n",
    "                        loss=criterion(y_preds,y)\n",
    "                        test_loss+=loss.item()*32\n",
    "        print(f\"\\033[1;36m Epoch : {epoch}\\033[0m\")\n",
    "        print(f\"\\033[1;31m Train loss : {train_loss/len(train_dataloader.dataset)}\\033[0m\")\n",
    "        print(f\"\\033[1;32m Test loss: {test_loss/len(test_dataloader.dataset)}\\033[0m\")\n",
    "        print(f\"\\033[1;34m {\"===\"*60} \\033[0m\")\n",
    "\n",
    "\n",
    "\n",
    "                "
   ]
  },
  {
   "cell_type": "code",
   "execution_count": 53,
   "id": "c5dcb315",
   "metadata": {},
   "outputs": [],
   "source": [
    "import tensorflow as tf\n",
    "x_test_np=scaler.fit_transform(x_test_np)\n",
    "x_train_np=scaler.fit_transform(x_train_np)\n"
   ]
  },
  {
   "cell_type": "code",
   "execution_count": 56,
   "id": "ab5b3456",
   "metadata": {},
   "outputs": [],
   "source": [
    "x_train_tf=tf.Variable(x_train_np)\n",
    "x_test_tf=tf.Variable(x_test_np)\n",
    "y_test_tf=tf.Variable(y_test_np)\n",
    "y_train_tf=tf.Variable(y_train_np)"
   ]
  },
  {
   "cell_type": "code",
   "execution_count": 57,
   "id": "b17e29b0",
   "metadata": {},
   "outputs": [
    {
     "name": "stdout",
     "output_type": "stream",
     "text": [
      "(7000, 7)\n"
     ]
    }
   ],
   "source": [
    "print(x_train_tf.shape)"
   ]
  },
  {
   "cell_type": "code",
   "execution_count": 59,
   "id": "b8911aad",
   "metadata": {},
   "outputs": [],
   "source": [
    "train_dataset_tf=tf.data.Dataset.from_tensor_slices((x_train_tf,y_train_tf))\n",
    "test_dataset_tf=tf.data.Dataset.from_tensor_slices((x_test_tf,y_test_tf))\n",
    "train_dataset_tf=train_dataset_tf.shuffle(buffer_size=train_dataset_tf.cardinality().numpy())\n",
    "test_dataset_tf=test_dataset_tf.shuffle(buffer_size=test_dataset_tf.cardinality().numpy())\n",
    "train_dataloader_tf=train_dataset_tf.batch(32)\n",
    "test_dataloader_tf=test_dataset_tf.batch(32)\n",
    "train_dataloader_tf=train_dataloader_tf.prefetch(tf.data.AUTOTUNE)\n",
    "test_dataloader_tf=test_dataloader_tf.prefetch(tf.data.AUTOTUNE)"
   ]
  },
  {
   "cell_type": "code",
   "execution_count": 60,
   "id": "55675fba",
   "metadata": {},
   "outputs": [
    {
     "name": "stdout",
     "output_type": "stream",
     "text": [
      "219\n",
      "94\n"
     ]
    }
   ],
   "source": [
    "print(len(train_dataloader_tf))\n",
    "print(len(test_dataloader_tf))"
   ]
  },
  {
   "cell_type": "code",
   "execution_count": 65,
   "id": "b6d52f15",
   "metadata": {},
   "outputs": [],
   "source": [
    "Model_tf=tf.keras.Sequential(\n",
    "        [       tf.keras.Input(shape=(7,)),\n",
    "                tf.keras.layers.Dense(64,activation=\"relu\"),\n",
    "                tf.keras.layers.Dense(128,activation=\"relu\"),\n",
    "                tf.keras.layers.Dense(128,activation=\"relu\"),\n",
    "                tf.keras.layers.Dense(64,activation=\"relu\"),\n",
    "                tf.keras.layers.Dense(1)\n",
    "        ]\n",
    ")"
   ]
  },
  {
   "cell_type": "code",
   "execution_count": 66,
   "id": "5ffabadd",
   "metadata": {},
   "outputs": [],
   "source": [
    "Model_tf.compile(\n",
    "        loss=tf.keras.losses.Huber(1),\n",
    "        optimizer=tf.keras.optimizers.Adam(learning_rate=0.001),\n",
    "        metrics=[\"mae\"]\n",
    ")\n"
   ]
  },
  {
   "cell_type": "code",
   "execution_count": 67,
   "id": "c3b2f7a5",
   "metadata": {},
   "outputs": [
    {
     "name": "stdout",
     "output_type": "stream",
     "text": [
      "Epoch 1/20\n",
      "\u001b[1m219/219\u001b[0m \u001b[32m━━━━━━━━━━━━━━━━━━━━\u001b[0m\u001b[37m\u001b[0m \u001b[1m4s\u001b[0m 3ms/step - loss: 105409.9297 - mae: 105410.4219\n",
      "Epoch 2/20\n",
      "\u001b[1m219/219\u001b[0m \u001b[32m━━━━━━━━━━━━━━━━━━━━\u001b[0m\u001b[37m\u001b[0m \u001b[1m1s\u001b[0m 3ms/step - loss: 20398.5059 - mae: 20399.0059\n",
      "Epoch 3/20\n",
      "\u001b[1m219/219\u001b[0m \u001b[32m━━━━━━━━━━━━━━━━━━━━\u001b[0m\u001b[37m\u001b[0m \u001b[1m1s\u001b[0m 3ms/step - loss: 14975.7666 - mae: 14976.2666\n",
      "Epoch 4/20\n",
      "\u001b[1m219/219\u001b[0m \u001b[32m━━━━━━━━━━━━━━━━━━━━\u001b[0m\u001b[37m\u001b[0m \u001b[1m1s\u001b[0m 3ms/step - loss: 13315.2158 - mae: 13315.7158\n",
      "Epoch 5/20\n",
      "\u001b[1m219/219\u001b[0m \u001b[32m━━━━━━━━━━━━━━━━━━━━\u001b[0m\u001b[37m\u001b[0m \u001b[1m1s\u001b[0m 3ms/step - loss: 12409.6982 - mae: 12410.1982\n",
      "Epoch 6/20\n",
      "\u001b[1m219/219\u001b[0m \u001b[32m━━━━━━━━━━━━━━━━━━━━\u001b[0m\u001b[37m\u001b[0m \u001b[1m1s\u001b[0m 3ms/step - loss: 11536.0234 - mae: 11536.5234\n",
      "Epoch 7/20\n",
      "\u001b[1m219/219\u001b[0m \u001b[32m━━━━━━━━━━━━━━━━━━━━\u001b[0m\u001b[37m\u001b[0m \u001b[1m1s\u001b[0m 3ms/step - loss: 11051.2314 - mae: 11051.7314\n",
      "Epoch 8/20\n",
      "\u001b[1m219/219\u001b[0m \u001b[32m━━━━━━━━━━━━━━━━━━━━\u001b[0m\u001b[37m\u001b[0m \u001b[1m1s\u001b[0m 3ms/step - loss: 10388.5557 - mae: 10389.0557\n",
      "Epoch 9/20\n",
      "\u001b[1m219/219\u001b[0m \u001b[32m━━━━━━━━━━━━━━━━━━━━\u001b[0m\u001b[37m\u001b[0m \u001b[1m1s\u001b[0m 3ms/step - loss: 10094.9033 - mae: 10095.4033\n",
      "Epoch 10/20\n",
      "\u001b[1m219/219\u001b[0m \u001b[32m━━━━━━━━━━━━━━━━━━━━\u001b[0m\u001b[37m\u001b[0m \u001b[1m1s\u001b[0m 3ms/step - loss: 9713.9092 - mae: 9714.4092\n",
      "Epoch 11/20\n",
      "\u001b[1m219/219\u001b[0m \u001b[32m━━━━━━━━━━━━━━━━━━━━\u001b[0m\u001b[37m\u001b[0m \u001b[1m1s\u001b[0m 3ms/step - loss: 9112.0996 - mae: 9112.5996\n",
      "Epoch 12/20\n",
      "\u001b[1m219/219\u001b[0m \u001b[32m━━━━━━━━━━━━━━━━━━━━\u001b[0m\u001b[37m\u001b[0m \u001b[1m1s\u001b[0m 2ms/step - loss: 8720.3340 - mae: 8720.8340\n",
      "Epoch 13/20\n",
      "\u001b[1m219/219\u001b[0m \u001b[32m━━━━━━━━━━━━━━━━━━━━\u001b[0m\u001b[37m\u001b[0m \u001b[1m1s\u001b[0m 2ms/step - loss: 8395.3809 - mae: 8395.8809\n",
      "Epoch 14/20\n",
      "\u001b[1m219/219\u001b[0m \u001b[32m━━━━━━━━━━━━━━━━━━━━\u001b[0m\u001b[37m\u001b[0m \u001b[1m1s\u001b[0m 3ms/step - loss: 8167.4287 - mae: 8167.9287\n",
      "Epoch 15/20\n",
      "\u001b[1m219/219\u001b[0m \u001b[32m━━━━━━━━━━━━━━━━━━━━\u001b[0m\u001b[37m\u001b[0m \u001b[1m1s\u001b[0m 2ms/step - loss: 7759.3892 - mae: 7759.8892\n",
      "Epoch 16/20\n",
      "\u001b[1m219/219\u001b[0m \u001b[32m━━━━━━━━━━━━━━━━━━━━\u001b[0m\u001b[37m\u001b[0m \u001b[1m1s\u001b[0m 3ms/step - loss: 7381.9502 - mae: 7382.4502\n",
      "Epoch 17/20\n",
      "\u001b[1m219/219\u001b[0m \u001b[32m━━━━━━━━━━━━━━━━━━━━\u001b[0m\u001b[37m\u001b[0m \u001b[1m1s\u001b[0m 3ms/step - loss: 7238.9170 - mae: 7239.4170\n",
      "Epoch 18/20\n",
      "\u001b[1m219/219\u001b[0m \u001b[32m━━━━━━━━━━━━━━━━━━━━\u001b[0m\u001b[37m\u001b[0m \u001b[1m0s\u001b[0m 2ms/step - loss: 6808.5391 - mae: 6809.0391\n",
      "Epoch 19/20\n",
      "\u001b[1m219/219\u001b[0m \u001b[32m━━━━━━━━━━━━━━━━━━━━\u001b[0m\u001b[37m\u001b[0m \u001b[1m1s\u001b[0m 2ms/step - loss: 6426.3418 - mae: 6426.8418\n",
      "Epoch 20/20\n",
      "\u001b[1m219/219\u001b[0m \u001b[32m━━━━━━━━━━━━━━━━━━━━\u001b[0m\u001b[37m\u001b[0m \u001b[1m1s\u001b[0m 3ms/step - loss: 5955.9165 - mae: 5956.4165\n"
     ]
    },
    {
     "data": {
      "text/plain": [
       "<keras.src.callbacks.history.History at 0x2623df49f40>"
      ]
     },
     "execution_count": 67,
     "metadata": {},
     "output_type": "execute_result"
    }
   ],
   "source": [
    "Model_tf.fit(train_dataloader_tf,epochs=20,verbose=1)"
   ]
  },
  {
   "cell_type": "code",
   "execution_count": 68,
   "id": "6a626c5c",
   "metadata": {},
   "outputs": [
    {
     "name": "stdout",
     "output_type": "stream",
     "text": [
      "\u001b[1m94/94\u001b[0m \u001b[32m━━━━━━━━━━━━━━━━━━━━\u001b[0m\u001b[37m\u001b[0m \u001b[1m1s\u001b[0m 3ms/step - loss: 6062.6626 - mae: 6063.1621\n"
     ]
    },
    {
     "data": {
      "text/plain": [
       "[5896.89208984375, 5897.39208984375]"
      ]
     },
     "execution_count": 68,
     "metadata": {},
     "output_type": "execute_result"
    }
   ],
   "source": [
    "Model_tf.evaluate(test_dataloader_tf)"
   ]
  },
  {
   "cell_type": "code",
   "execution_count": 69,
   "id": "4b5fd58e",
   "metadata": {},
   "outputs": [],
   "source": [
    "#tensorflow performed the best"
   ]
  },
  {
   "cell_type": "code",
   "execution_count": null,
   "id": "226aa738",
   "metadata": {},
   "outputs": [],
   "source": []
  }
 ],
 "metadata": {
  "kernelspec": {
   "display_name": "Python 3",
   "language": "python",
   "name": "python3"
  },
  "language_info": {
   "codemirror_mode": {
    "name": "ipython",
    "version": 3
   },
   "file_extension": ".py",
   "mimetype": "text/x-python",
   "name": "python",
   "nbconvert_exporter": "python",
   "pygments_lexer": "ipython3",
   "version": "3.12.5"
  }
 },
 "nbformat": 4,
 "nbformat_minor": 5
}
