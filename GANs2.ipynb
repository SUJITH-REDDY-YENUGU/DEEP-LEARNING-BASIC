{
 "cells": [
  {
   "cell_type": "code",
   "execution_count": 2,
   "id": "f2195862",
   "metadata": {},
   "outputs": [],
   "source": [
    "import pandas as pd\n",
    "import numpy as np\n",
    "import matplotlib.pyplot as plt\n",
    "import torch as t\n",
    "import torchvision\n",
    "import torch.nn as nn\n"
   ]
  },
  {
   "cell_type": "code",
   "execution_count": 41,
   "id": "d0f3403a",
   "metadata": {},
   "outputs": [],
   "source": [
    "class Generator(nn.Module):\n",
    "        def __init__(self,noise_dim):\n",
    "                super().__init__()\n",
    "                self.noise_dim=noise_dim\n",
    "                self.layer1=nn.Sequential(\n",
    "                        nn.Linear(noise_dim,256*7*7),\n",
    "                        nn.ReLU(),\n",
    "                        nn.Unflatten(1,(256,7,7)),\n",
    "                        nn.ConvTranspose2d(256,128,kernel_size=4,stride=2,padding=2),#12,12 is the output shape\n",
    "                        nn.BatchNorm2d(128),\n",
    "                        nn.ReLU(),\n",
    "                        nn.ConvTranspose2d(128,1,kernel_size=8,stride=2,padding=1),\n",
    "                        nn.Tanh()\n",
    "                )\n",
    "        def forward(self,x):\n",
    "                return self.layer1(x)\n"
   ]
  },
  {
   "cell_type": "code",
   "execution_count": 42,
   "id": "b6566fbb",
   "metadata": {},
   "outputs": [
    {
     "name": "stdout",
     "output_type": "stream",
     "text": [
      "torch.Size([32, 1, 28, 28])\n"
     ]
    }
   ],
   "source": [
    "rand1=t.rand(size=(32,100))\n",
    "Model=Generator(100)\n",
    "output=Model(rand1)\n",
    "print(output.shape)"
   ]
  },
  {
   "cell_type": "code",
   "execution_count": 43,
   "id": "cbefd2c0",
   "metadata": {},
   "outputs": [
    {
     "data": {
      "text/plain": [
       "===================================================================================================================\n",
       "Layer (type:depth-idx)                   Input Shape               Output Shape              Param #\n",
       "===================================================================================================================\n",
       "Generator                                [32, 100]                 [32, 1, 28, 28]           --\n",
       "├─Sequential: 1-1                        [32, 100]                 [32, 1, 28, 28]           --\n",
       "│    └─Linear: 2-1                       [32, 100]                 [32, 12544]               1,266,944\n",
       "│    └─ReLU: 2-2                         [32, 12544]               [32, 12544]               --\n",
       "│    └─Unflatten: 2-3                    [32, 12544]               [32, 256, 7, 7]           --\n",
       "│    └─ConvTranspose2d: 2-4              [32, 256, 7, 7]           [32, 128, 12, 12]         524,416\n",
       "│    └─BatchNorm2d: 2-5                  [32, 128, 12, 12]         [32, 128, 12, 12]         256\n",
       "│    └─ReLU: 2-6                         [32, 128, 12, 12]         [32, 128, 12, 12]         --\n",
       "│    └─ConvTranspose2d: 2-7              [32, 128, 12, 12]         [32, 1, 28, 28]           8,193\n",
       "│    └─Tanh: 2-8                         [32, 1, 28, 28]           [32, 1, 28, 28]           --\n",
       "===================================================================================================================\n",
       "Total params: 1,799,809\n",
       "Trainable params: 1,799,809\n",
       "Non-trainable params: 0\n",
       "Total mult-adds (Units.GIGABYTES): 2.66\n",
       "===================================================================================================================\n",
       "Input size (MB): 0.01\n",
       "Forward/backward pass size (MB): 12.85\n",
       "Params size (MB): 7.20\n",
       "Estimated Total Size (MB): 20.06\n",
       "==================================================================================================================="
      ]
     },
     "execution_count": 43,
     "metadata": {},
     "output_type": "execute_result"
    }
   ],
   "source": [
    "from torchinfo import summary\n",
    "summary(Model,\n",
    "        input_data=rand1,\n",
    "        col_names=[\"input_size\",\"output_size\",\"num_params\"]\n",
    "\n",
    ")"
   ]
  },
  {
   "cell_type": "code",
   "execution_count": 44,
   "id": "b659c034",
   "metadata": {},
   "outputs": [],
   "source": [
    "class Discriminator(nn.Module):\n",
    "        def __init__(self,):\n",
    "                super().__init__()#input shape =(28,28)\n",
    "                self.layer1=nn.Conv2d(1,64,kernel_size=6,padding=1,stride=2)#(13,13)\n",
    "                self.layer2=nn.Sequential(\n",
    "                        nn.BatchNorm2d(64),\n",
    "                        nn.LeakyReLU(0.2,inplace=True)\n",
    "                )\n",
    "                self.layer3=nn.Conv2d(64,128,stride=2,kernel_size=2,padding=1)\n",
    "                self.layer4=nn.Sequential(\n",
    "                        nn.BatchNorm2d(128),\n",
    "                        nn.LeakyReLU(0.4,inplace=True)\n",
    "                )\n",
    "                self.layer5=nn.Sequential(\n",
    "                        nn.Flatten(start_dim=-3,end_dim=-1),\n",
    "                        nn.Linear(7*7*128,1)\n",
    "                )\n",
    "        def forward(self,x):\n",
    "        \n",
    "                x=self.layer1(x)\n",
    "                # print(x.shape)\n",
    "                x=self.layer2(x)\n",
    "                # print(x.shape)\n",
    "                x=self.layer3(x)\n",
    "                # print(x.shape)\n",
    "                x=self.layer4(x)\n",
    "                # print(x.shape)\n",
    "                x=self.layer5(x)\n",
    "                # print(x.shape)\n",
    "                return x\n"
   ]
  },
  {
   "cell_type": "code",
   "execution_count": 45,
   "id": "dbf3a4da",
   "metadata": {},
   "outputs": [
    {
     "data": {
      "text/plain": [
       "tensor([[ 0.0920],\n",
       "        [-0.2293],\n",
       "        [-0.5073],\n",
       "        [-0.1106],\n",
       "        [ 0.2356],\n",
       "        [-0.4200],\n",
       "        [-0.2904],\n",
       "        [-0.7001],\n",
       "        [-0.6645],\n",
       "        [-0.7928],\n",
       "        [-0.1615],\n",
       "        [ 0.0258],\n",
       "        [-0.2801],\n",
       "        [-0.4639],\n",
       "        [-0.2364],\n",
       "        [-0.0517],\n",
       "        [ 0.3621],\n",
       "        [-0.3917],\n",
       "        [-0.6046],\n",
       "        [-0.8143],\n",
       "        [-0.5788],\n",
       "        [-0.2372],\n",
       "        [ 0.2406],\n",
       "        [ 0.0370],\n",
       "        [ 0.1531],\n",
       "        [-0.2448],\n",
       "        [-0.1328],\n",
       "        [ 0.1141],\n",
       "        [ 0.3300],\n",
       "        [-0.8919],\n",
       "        [-0.0313],\n",
       "        [-0.4783]], grad_fn=<AddmmBackward0>)"
      ]
     },
     "execution_count": 45,
     "metadata": {},
     "output_type": "execute_result"
    }
   ],
   "source": [
    "rand2=t.rand(size=(32,1,28,28))\n",
    "Model_di=Discriminator()\n",
    "Model_di(rand2)\n",
    "#uncomment above lines to get shape"
   ]
  },
  {
   "cell_type": "code",
   "execution_count": 46,
   "id": "d0e3dbcc",
   "metadata": {},
   "outputs": [],
   "source": [
    "noise_dimension=100\n",
    "criterion=t.nn.BCEWithLogitsLoss()\n",
    "gen_opti=t.optim.Adam(\n",
    "        params=Model.parameters(),\n",
    "        lr=0.0002,\n",
    "        betas=(0.6,0.99)\n",
    ")\n",
    "disc_opti=t.optim.Adam(\n",
    "        params=Model_di.parameters(),\n",
    "        lr=0.0002,\n",
    "        betas=(0.6,0.99)\n",
    ")"
   ]
  },
  {
   "cell_type": "code",
   "execution_count": 47,
   "id": "2f6f83bc",
   "metadata": {},
   "outputs": [],
   "source": [
    "transformation_manual=torchvision.transforms.Compose(\n",
    "        [\n",
    "                torchvision.transforms.ToTensor(),\n",
    "                torchvision.transforms.Normalize((0.5,),(0.5,))\n",
    "\n",
    "        ]\n",
    ")"
   ]
  },
  {
   "cell_type": "code",
   "execution_count": 48,
   "id": "fe27db25",
   "metadata": {},
   "outputs": [
    {
     "data": {
      "text/plain": [
       "Compose(\n",
       "    ToTensor()\n",
       "    Normalize(mean=(0.5,), std=(0.5,))\n",
       ")"
      ]
     },
     "execution_count": 48,
     "metadata": {},
     "output_type": "execute_result"
    }
   ],
   "source": [
    "transformation_manual"
   ]
  },
  {
   "cell_type": "code",
   "execution_count": 49,
   "id": "da1b34bf",
   "metadata": {},
   "outputs": [],
   "source": [
    "train_dataset=torchvision.datasets.FashionMNIST(\n",
    "        train=True,\n",
    "        download=True,\n",
    "        root=\"./data\",\n",
    "        transform=transformation_manual\n",
    ")\n",
    "train_data_loader=t.utils.data.DataLoader(dataset=train_dataset,shuffle=True,batch_size=32,num_workers=0,pin_memory=False)"
   ]
  },
  {
   "cell_type": "code",
   "execution_count": 50,
   "id": "9440fbdb",
   "metadata": {},
   "outputs": [
    {
     "data": {
      "text/plain": [
       "1875"
      ]
     },
     "execution_count": 50,
     "metadata": {},
     "output_type": "execute_result"
    }
   ],
   "source": [
    "len(train_data_loader)\n"
   ]
  },
  {
   "cell_type": "code",
   "execution_count": 51,
   "id": "66d080f4",
   "metadata": {},
   "outputs": [],
   "source": [
    "image,label=train_dataset[0]\n"
   ]
  },
  {
   "cell_type": "code",
   "execution_count": 52,
   "id": "cba1cac6",
   "metadata": {},
   "outputs": [
    {
     "name": "stdout",
     "output_type": "stream",
     "text": [
      "9\n"
     ]
    },
    {
     "data": {
      "image/png": "[encoded data removed]",
      "text/plain": [
       "<Figure size 640x480 with 1 Axes>"
      ]
     },
     "metadata": {},
     "output_type": "display_data"
    }
   ],
   "source": [
    "import matplotlib.pyplot as plt\n",
    "plt.imshow(image.squeeze())\n",
    "print(label)"
   ]
  },
  {
   "cell_type": "code",
   "execution_count": 53,
   "id": "dba53143",
   "metadata": {},
   "outputs": [
    {
     "data": {
      "text/plain": [
       "{'T-shirt/top': 0,\n",
       " 'Trouser': 1,\n",
       " 'Pullover': 2,\n",
       " 'Dress': 3,\n",
       " 'Coat': 4,\n",
       " 'Sandal': 5,\n",
       " 'Shirt': 6,\n",
       " 'Sneaker': 7,\n",
       " 'Bag': 8,\n",
       " 'Ankle boot': 9}"
      ]
     },
     "execution_count": 53,
     "metadata": {},
     "output_type": "execute_result"
    }
   ],
   "source": [
    "train_dataset.class_to_idx"
   ]
  },
  {
   "cell_type": "code",
   "execution_count": 54,
   "id": "7adc0539",
   "metadata": {},
   "outputs": [],
   "source": [
    "epochs=20\n",
    "for epoch in range(epochs):\n",
    "        for batch in train_data_loader:\n",
    "                (real_images,y)=batch\n",
    "                real_labels=t.ones(size=(real_images.size(0),1)).float()\n",
    "                fake_labels=t.zeros(size=(real_images.size(0),1)).float()\n",
    "               \n",
    "                disc_opti.zero_grad()\n",
    "                real_outputs=Model_di(real_images)\n",
    "                loss_real=criterion(real_outputs,real_labels)\n",
    "                \n",
    "                noise=t.randn(size=(real_images.size(0),100))\n",
    "                fake_images=Model(noise)\n",
    "                fake_outputs=Model_di(fake_images.detach())\n",
    "                loss_fake=criterion(fake_outputs,fake_labels)\n",
    "                disc_loss=loss_fake+loss_real\n",
    "                disc_loss.backward()\n",
    "                disc_opti.step()\n",
    "                fake_outputs=Model_di(fake_images.detach())\n",
    "                gen_opti.zero_grad()\n",
    "                gen_loss=criterion(fake_outputs,real_labels)\n",
    "                gen_loss.backward()\n",
    "                gen_opti.step()\n",
    "\n",
    "\n",
    "                \n",
    "                \n"
   ]
  },
  {
   "cell_type": "code",
   "execution_count": 56,
   "id": "7ffd947b",
   "metadata": {},
   "outputs": [
    {
     "data": {
      "text/plain": [
       "torch.Size([64, 1, 6, 6])"
      ]
     },
     "execution_count": 56,
     "metadata": {},
     "output_type": "execute_result"
    }
   ],
   "source": [
    "Model_di.layer1.weight.shape"
   ]
  },
  {
   "cell_type": "code",
   "execution_count": 57,
   "id": "e97084a5",
   "metadata": {},
   "outputs": [],
   "source": [
    "t.save(obj=Model_di.state_dict(),f=\"disc.pth\")\n",
    "t.save(obj=Model.state_dict(),f=\"gen.pth\")"
   ]
  },
  {
   "cell_type": "code",
   "execution_count": 58,
   "id": "60c7d986",
   "metadata": {},
   "outputs": [
    {
     "name": "stderr",
     "output_type": "stream",
     "text": [
      "C:\\Users\\yenug\\AppData\\Local\\Temp\\ipykernel_21116\\1903813562.py:1: FutureWarning: You are using `torch.load` with `weights_only=False` (the current default value), which uses the default pickle module implicitly. It is possible to construct malicious pickle data which will execute arbitrary code during unpickling (See https://github.com/pytorch/pytorch/blob/main/SECURITY.md#untrusted-models for more details). In a future release, the default value for `weights_only` will be flipped to `True`. This limits the functions that could be executed during unpickling. Arbitrary objects will no longer be allowed to be loaded via this mode unless they are explicitly allowlisted by the user via `torch.serialization.add_safe_globals`. We recommend you start setting `weights_only=True` for any use case where you don't have full control of the loaded file. Please open an issue on GitHub for any issues related to this experimental feature.\n",
      "  Model_di.load_state_dict(t.load(f=\"disc.pth\"))\n"
     ]
    },
    {
     "data": {
      "text/plain": [
       "<All keys matched successfully>"
      ]
     },
     "execution_count": 58,
     "metadata": {},
     "output_type": "execute_result"
    }
   ],
   "source": [
    "Model_di.load_state_dict(t.load(f=\"disc.pth\"))"
   ]
  },
  {
   "cell_type": "code",
   "execution_count": 84,
   "id": "1ebeadaa",
   "metadata": {},
   "outputs": [
    {
     "name": "stdout",
     "output_type": "stream",
     "text": [
      "torch.Size([4, 1, 28, 28])\n"
     ]
    }
   ],
   "source": [
    "t.manual_seed(21)\n",
    "output=Model(t.randn(size=(4,100)))\n",
    "print(output.shape)"
   ]
  },
  {
   "cell_type": "code",
   "execution_count": 85,
   "id": "4b522f65",
   "metadata": {},
   "outputs": [
    {
     "name": "stderr",
     "output_type": "stream",
     "text": [
      "C:\\Users\\yenug\\AppData\\Local\\Temp\\ipykernel_21116\\2634166436.py:1: UserWarning: To copy construct from a tensor, it is recommended to use sourceTensor.clone().detach() or sourceTensor.clone().detach().requires_grad_(True), rather than torch.tensor(sourceTensor).\n",
      "  values_of_img=t.tensor(output,requires_grad=False)\n"
     ]
    }
   ],
   "source": [
    "values_of_img=t.tensor(output,requires_grad=False)"
   ]
  },
  {
   "cell_type": "code",
   "execution_count": 86,
   "id": "15e8d87d",
   "metadata": {},
   "outputs": [
    {
     "data": {
      "text/plain": [
       "torch.Size([4, 1, 28, 28])"
      ]
     },
     "execution_count": 86,
     "metadata": {},
     "output_type": "execute_result"
    }
   ],
   "source": [
    "values_of_img.shape"
   ]
  },
  {
   "cell_type": "code",
   "execution_count": 87,
   "id": "12a14d3f",
   "metadata": {},
   "outputs": [
    {
     "data": {
      "text/plain": [
       "torch.Size([28, 28])"
      ]
     },
     "execution_count": 87,
     "metadata": {},
     "output_type": "execute_result"
    }
   ],
   "source": [
    "values_of_img[1].squeeze().shape"
   ]
  },
  {
   "cell_type": "code",
   "execution_count": 90,
   "id": "86526356",
   "metadata": {},
   "outputs": [
    {
     "data": {
      "text/plain": [
       "<matplotlib.image.AxesImage at 0x25256d874d0>"
      ]
     },
     "execution_count": 90,
     "metadata": {},
     "output_type": "execute_result"
    },
    {
     "data": {
      "image/png": "[encoded data removed]",
      "text/plain": [
       "<Figure size 640x480 with 1 Axes>"
      ]
     },
     "metadata": {},
     "output_type": "display_data"
    }
   ],
   "source": [
    "plt.imshow(values_of_img[3].squeeze().numpy())"
   ]
  },
  {
   "cell_type": "code",
   "execution_count": null,
   "id": "3867b8b6",
   "metadata": {},
   "outputs": [],
   "source": []
  }
 ],
 "metadata": {
  "kernelspec": {
   "display_name": "Python 3",
   "language": "python",
   "name": "python3"
  },
  "language_info": {
   "codemirror_mode": {
    "name": "ipython",
    "version": 3
   },
   "file_extension": ".py",
   "mimetype": "text/x-python",
   "name": "python",
   "nbconvert_exporter": "python",
   "pygments_lexer": "ipython3",
   "version": "3.12.5"
  }
 },
 "nbformat": 4,
 "nbformat_minor": 5
}
